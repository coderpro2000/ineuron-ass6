{
 "cells": [
  {
   "cell_type": "code",
   "execution_count": null,
   "metadata": {},
   "outputs": [],
   "source": [
    "What are escape characters, and how do you use them?\n",
    "ans -- To insert characters that are illegal in a string, use an escape character. An escape character is a backslash \\ followed by \n",
    "the character you want to insert."
   ]
  },
  {
   "cell_type": "code",
   "execution_count": null,
   "metadata": {},
   "outputs": [],
   "source": [
    "What do the escape characters n and t stand for?\n",
    "ans --In Python strings, the backslash \"\\\" is a special character, also called the \"escape\" character. It is used in representing \n",
    "certain whitespace characters: \"\\t\" is a tab, \"\\n\" is a newline, and \"\\r\" is a carriage return. Conversely, prefixing a special\n",
    "character with \"\\\" turns it into an ordinary character."
   ]
  },
  {
   "cell_type": "code",
   "execution_count": null,
   "metadata": {},
   "outputs": [],
   "source": [
    "What is the way to include backslash characters in a string?\n",
    "ans -- The backslash ( \\ ) escape character typically provides two ways to include doublequotes inside a string literal, either\n",
    "by modifying the meaning of the doublequote character embedded in the string ( \\\" becomes \" ), or by modifying the meaning of\n",
    "a sequence of characters including the hexadecimal value of a doublequote."
   ]
  },
  {
   "cell_type": "code",
   "execution_count": null,
   "metadata": {},
   "outputs": [],
   "source": [
    "The string \" how|'s' moving castle \" is a correct value. why isn't is the single quote character in the how|'s' not escape a \n",
    "problem\n",
    "ans -- the double quotes are required to end the quote, single quotes are not recognized"
   ]
  },
  {
   "cell_type": "code",
   "execution_count": null,
   "metadata": {},
   "outputs": [],
   "source": [
    "5. How do you write a string of newlines if you do notwant to use the n character?\n",
    "ans -- In Python, you have different ways to specify a multiline string. You can have a string split across multiple lines by \n",
    "enclosing it in triple quotes. Alternatively, brackets can also be used to spread a string into different lines. Moreover,\n",
    "backslash works as a line continuation character in Python."
   ]
  },
  {
   "cell_type": "code",
   "execution_count": null,
   "metadata": {},
   "outputs": [],
   "source": [
    "What are the values of the given expressions?\n",
    "'Hello, World!'[1]  -- e\n",
    "'Hello, World!'[0:5] -- 'Hello'\n",
    "'Hello, World!'[:5]  -- 'Hello'\n",
    "'Hello, World!'[3:] -- 'lo, World!'\n"
   ]
  },
  {
   "cell_type": "code",
   "execution_count": 4,
   "metadata": {},
   "outputs": [
    {
     "data": {
      "text/plain": [
       "'lo, World!'"
      ]
     },
     "execution_count": 4,
     "metadata": {},
     "output_type": "execute_result"
    }
   ],
   "source": [
    "what are the values of given expression?\n",
    "\"Hello\".upper() -- 'HELLO'\n",
    "\"Hello\".upper().isupper() -- True\n",
    "\"Hello\".upper().lower() -- 'hello'\n"
   ]
  },
  {
   "cell_type": "code",
   "execution_count": 7,
   "metadata": {},
   "outputs": [
    {
     "data": {
      "text/plain": [
       "'hello'"
      ]
     },
     "execution_count": 7,
     "metadata": {},
     "output_type": "execute_result"
    }
   ],
   "source": [
    "What are the values of the following expressions?\n",
    "ans -- The expressions evaluate to the following:\n",
    "\n",
    "['Remember,', 'remember,', 'the', 'fifth', 'of', 'November.']\n",
    "\n",
    "'There-can-be-only-one."
   ]
  },
  {
   "cell_type": "code",
   "execution_count": null,
   "metadata": {},
   "outputs": [],
   "source": [
    "9. What are the methods for right-justifying, left-justifying, and centering a string?\n",
    "This function center aligns the string according to the width specified and fills remaining space of line with blank space if \n",
    "' fillchr ' argument is not passed. center( len, fillchr ) Parameters : len : The width of string to expand it. \n",
    "ljust( len, fillchr ) Parameters : rjust( len, fillchr ) Parameters "
   ]
  },
  {
   "cell_type": "code",
   "execution_count": null,
   "metadata": {},
   "outputs": [],
   "source": [
    "10. What is the best way to remove whitespace characters from the start or end?\n",
    "ans -- String result = str. trim(); The trim() method will remove both leading and trailing whitespace from a string and return the \n",
    "result."
   ]
  },
  {
   "cell_type": "code",
   "execution_count": null,
   "metadata": {},
   "outputs": [],
   "source": []
  }
 ],
 "metadata": {
  "kernelspec": {
   "display_name": "Python 3",
   "language": "python",
   "name": "python3"
  },
  "language_info": {
   "codemirror_mode": {
    "name": "ipython",
    "version": 3
   },
   "file_extension": ".py",
   "mimetype": "text/x-python",
   "name": "python",
   "nbconvert_exporter": "python",
   "pygments_lexer": "ipython3",
   "version": "3.7.6"
  }
 },
 "nbformat": 4,
 "nbformat_minor": 4
}
